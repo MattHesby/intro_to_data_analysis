{
 "cells": [
  {
   "cell_type": "markdown",
   "metadata": {},
   "source": [
    "# Statistical Inference: Intro to Hypothesis Testing\n",
    "\n",
    "By Carl Shan with credit to [Cyrille Rossant](https://cyrille.rossant.net/) and [Chris Ketelson](https://www.cs.colorado.edu/~ketelsen/index.html) for inspiration and examples."
   ]
  },
  {
   "cell_type": "markdown",
   "metadata": {},
   "source": [
    "# Instructions\n",
    "This notebook introduces the idea of hypothesis testing to you through simulation.\n",
    "\n",
    "There are three sets of exercises here.: \n",
    "1. [Standard](#Standard-Exercises)\n",
    "2. [Intermediate](#Intermediate-Exercises) \n",
    "3. [Advanced](#Advanced-Exercise). \n",
    "4. There is a bonus [challenge exercise](#Optional----Challenge-Exercise) at the end.\n",
    "\n",
    "Everyone must **AT LEAST** finish Standard exercises. \n",
    "\n",
    "However, you **do not** need to do the Intermediate or Advanced exercises. If you would like to challenge yourself, you can turn in the Intermediate and Advanced."
   ]
  },
  {
   "cell_type": "markdown",
   "metadata": {},
   "source": [
    "# Standard Exercises\n",
    "\n",
    "## You're at the Carnival\n",
    "\n",
    "> Imagine you're at the carnival.\n",
    "> \n",
    "> ![Carnival](https://www.bizbash.com/content/editorial/StoryPhoto/big/e13203image2.jpg)\n",
    ">\n",
    "> A carnie waves to you, drawing you to their booth. \n",
    ">\n",
    "> They tell you the following: you get to play a coin-flip game for \\$10. If the carnie flips a `tails`, you win \\$25. Otherwise, if they flip `heads`, you don't win anything.\n",
    ">\n",
    "> Each time you play this game, you have to pay \\$10.\n",
    "\n",
    "\n"
   ]
  },
  {
   "cell_type": "markdown",
   "metadata": {},
   "source": [
    "**Standard Exercise Part 1**: Is this a good bet for you? Why or why not? Write your answer below.\n",
    "\n",
    "If you are unsure, you can also simulate playing this game and calculate your average profit/loss over many runs."
   ]
  },
  {
   "cell_type": "code",
   "execution_count": null,
   "metadata": {},
   "outputs": [],
   "source": [
    "### YOUR ANSWER OR CODE HERE ###\n",
    "\n",
    "\n",
    "\n",
    "\n",
    "\n",
    "\n"
   ]
  },
  {
   "cell_type": "markdown",
   "metadata": {},
   "source": [
    "> Now, say you decide to play this game.\n",
    "> \n",
    "> You hand over \\$10 and the coin flips `tails`.\n",
    "> \n",
    "> \"No problem\" you say to yourself underneath your breath. You fork over another \\$10. `tails` again.\\\n",
    ">\n",
    "> You furrow your brow and frown. Something doesn't seem right here.\n",
    "\n",
    "> Suspicious, you declare that you won't play another round until you have had a chance to inspect the coin again.\n",
    "\n",
    "> The carnie smiles slyly, handing you over the coin.\n",
    "\n",
    "> You take it, weighing it in your hand. You can't tell for sure, but you think there's some *small, nearly inperceptible* difference in weight from coins you felt in the past.\n",
    "\n",
    "> You decide to conduct a test. You quickly flip the coin 100 times in a row.\n",
    "> You see the following data.\n",
    "> ```python\n",
    "       ['H', 'T', 'H', 'T', 'T', 'T', 'H', 'H', 'T', 'T', 'H', 'H', 'H',\n",
    "       'H', 'H', 'T', 'T', 'H', 'T', 'T', 'T', 'H', 'H', 'H', 'H', 'H',\n",
    "       'H', 'H', 'H', 'H', 'H', 'H', 'T', 'H', 'H', 'H', 'T', 'H', 'H',\n",
    "       'H', 'H', 'H', 'H', 'H', 'T', 'T', 'H', 'T', 'T', 'H', 'H', 'T',\n",
    "       'T', 'H', 'T', 'T', 'H', 'H', 'H', 'H', 'H', 'T', 'H', 'H', 'T',\n",
    "       'T', 'T', 'H', 'H', 'H', 'H', 'T', 'T', 'H', 'T', 'H', 'H', 'H',\n",
    "       'H', 'H', 'T', 'H', 'H', 'H', 'H', 'H', 'H', 'H', 'H', 'H', 'H',\n",
    "       'H', 'T', 'T', 'H', 'T', 'H', 'H', 'H', 'H']\n",
    "```\n",
    "\n",
    "**Standard Exercise Part 2**: Copy the `list` above into the code cell below. Write some code that counts the total number of heads that occurred."
   ]
  },
  {
   "cell_type": "code",
   "execution_count": null,
   "metadata": {},
   "outputs": [],
   "source": [
    "### YOUR CODE HERE ###\n",
    "\n",
    "\n",
    "\n",
    "\n",
    "\n",
    "\n"
   ]
  },
  {
   "cell_type": "markdown",
   "metadata": {},
   "source": [
    "Hmmm, okay. So you do seem to get a suspiciously large number of heads. But is it a rigged game? Or did this come up by chance?\n",
    "\n",
    "How can you tell, and what evidence do you have?\n",
    "\n",
    "Fortunately, we have various statistical methods that we can use to answer questions like this. "
   ]
  },
  {
   "cell_type": "markdown",
   "metadata": {},
   "source": [
    "# Welcome to hypothesis testing\n",
    "\n",
    "So you have some data. And what you're wondering is which of the two situations you're in:\n",
    "\n",
    "    Hypothesis 1. The coin is fair. You're not being ripped off. The data just happened to end up the way that it is due to pure, random chance.\n",
    "    Hypothesis 2. The coin is unfair. The data is that way because the coin is biased.\n",
    "\n",
    "Which situation are you more likely to be in?\n",
    "\n",
    "Statisticians have invented a way to help you figure things out. It's called `Statistical Hypothesis Testing`.\n",
    "\n",
    "It allows you to distinguish between which Hypothesis is more likely to be true.\n",
    "\n",
    "Here's how it works.\n"
   ]
  },
  {
   "cell_type": "markdown",
   "metadata": {},
   "source": [
    "### How it works\n",
    "\n",
    "Statistical hypothesis testing's approach is to answer the following: IF the coin IS fair, HOW LIKELY is it to have created this data?\n",
    "\n",
    "If even a fair coin is pretty likely to have created the data we saw above, then we shrug our shoulders and say, \"Well I guess I can't really conclude that the coin is unfair.\"\n",
    "\n",
    "But if there's only a tiny chance (e.g., `0.0000000000001%`) of a fair coin producing the data we saw, then we say \"Ah ha! It's very unlikely Hypothesis 1 is true, so therefore it's much more likely for Hypothesis 2 to be correct.\"\n",
    "\n",
    "Alright, we've more clearly defined our problem. \n",
    "\n",
    "    Original question: Which hypothesis is right? Hypothesis 1: coin is fair or Hypothesis 2: coin is unfair?\n",
    "\n",
    "    New question: how likely is it that a fair coin could have produced this data?\n",
    "\n",
    "So we now have to figure this out."
   ]
  },
  {
   "cell_type": "markdown",
   "metadata": {},
   "source": [
    "### Modeling Coin Flips\n",
    "\n",
    "Let's model some coin flips.\n",
    "\n",
    "**Standard Exercise Part 3**:\n",
    "\n",
    "> Step 1. Model a coin flip. Flip it 100 times and calculate the number of heads that shows up."
   ]
  },
  {
   "cell_type": "code",
   "execution_count": null,
   "metadata": {},
   "outputs": [],
   "source": [
    "### YOUR CODE HERE\n",
    "\n",
    "\n",
    "\n",
    "\n",
    "\n",
    "\n"
   ]
  },
  {
   "cell_type": "markdown",
   "metadata": {},
   "source": [
    "> Step 2. Now, write some code that does the above simulation 1000 times. \n",
    "\n",
    "> Plot a histogram of the number of heads that you calculated. (Remember to `%pylab inline` if you want to plot in the notebook).\n",
    "\n",
    "> Answer the following question: \n",
    "> * What does the distribution of the histogram remind you of?\n",
    "> * What % of the time time does the number of heads that turns up EQUAL OR EXCEED the suspicious number of times that the carnival's coin generated?\n",
    "\n",
    "> * **NOTE**: The above percentage is called the `p-value`\n"
   ]
  },
  {
   "cell_type": "code",
   "execution_count": null,
   "metadata": {},
   "outputs": [],
   "source": [
    "### YOUR ANSWER AND CODE HERE\n",
    "\n",
    "\n",
    "\n",
    "\n",
    "\n",
    "\n"
   ]
  },
  {
   "cell_type": "markdown",
   "metadata": {},
   "source": [
    "> Step 3. Given that the number of heads in your simulation only occurred that many times, which hypothesis do you think is more likely? Why?\n",
    "\n",
    "     Hypothesis 1. The coin is fair. You're not being ripped off. The data just happened to end up the way that it is due to pure, random chance.\n",
    "     Hypothesis 2. The coin is unfair. The data is that way because the coin is biased."
   ]
  },
  {
   "cell_type": "code",
   "execution_count": null,
   "metadata": {},
   "outputs": [],
   "source": [
    "### YOUR ANSWER AND EXPLANATION HERE\n",
    "\n",
    "\n",
    "\n",
    "\n",
    "\n",
    "\n"
   ]
  },
  {
   "cell_type": "markdown",
   "metadata": {},
   "source": [
    "***"
   ]
  },
  {
   "cell_type": "markdown",
   "metadata": {},
   "source": [
    "## Intermediate Exercises\n",
    "\n",
    "Make sure you've completed the above exercises before moving forward.\n",
    "\n",
    "**Exercise 1**: Simulating `alpha`\n",
    "\n",
    "Based on our simulation, the probability of our suspicious data happening if the coin was really fair is some small percentage `X`. \n",
    "\n",
    "Given that, if `X` passes our suspiciousness threshold we are suspicious enough we will say that this game is rigged. Or, if we are still not convinced and need more data to sway us, we may instead say that `X` isn't sufficiently low for us to confidently say that the game is rigged.\n",
    "\n",
    "The \"threshold\" that our data needs to be that we pick to say that the game is rigged is known in statistics as `alpha`. You can think of it as our \"bar for rejecting Hypothesis 1\". If our data is lower than the bar, then we can say it's met the threshold or `alpha`. The lower the `alpha` is, the less likely we are to say that things are \"rigged\", because the harder it is for our data to be smaller than the bar.\n",
    "\n",
    "Your exercise: write a function called `is_rigged()` that takes in the following inputs:\n",
    "\n",
    "* a parameter called `flips` which will be a list of \"H\" and \"T\".\n",
    "* a threshold parameter called `alpha`\n",
    "\n",
    "Your function should do the following:\n",
    "\n",
    "* return `True` if the number of \"H\" appears less than `alpha` percentage of the time after some number of trials.\n",
    "* return `False` otherwise.\n",
    "\n",
    "In other words, your function should be your best guess as to whether the game is rigged or not."
   ]
  },
  {
   "cell_type": "code",
   "execution_count": null,
   "metadata": {},
   "outputs": [],
   "source": [
    "#### YOUR CODE HERE\n",
    "\n",
    "\n",
    "\n",
    "\n",
    "\n",
    "\n",
    "\n",
    "\n",
    "\n",
    "\n",
    "\n",
    "\n",
    "\n",
    "\n",
    "\n",
    "\n",
    "\n",
    "\n",
    "\n",
    "\n"
   ]
  },
  {
   "cell_type": "markdown",
   "metadata": {},
   "source": [
    "**Exercise 2**: Z-Test\n",
    "\n",
    "Now, many times in statistics we don't always run a lot of simulations and compare our data with how the simulations went.\n",
    "\n",
    "We can also mathematically figure out, based upon a number of different factors.\n",
    "\n",
    "In the above coin-flipping example at the Carnival, we had two hypotheses: \n",
    "* H1 - the coin is fair \n",
    "* H2 - the coin is unfair.\n",
    "\n",
    "We typically call `H1` the `null hypothesis` because it represents a \"normal\", \"no change\" or `null` scenario.\n",
    "\n",
    "We call `H2` the `alternative hypothesis` because it's what we believe to be true if the `null hypothesis` is false.\n",
    "\n",
    "The percentage of times that of times that we flipped a fair coin and got AS or MORE heads than our data is called the `p-value`.\n",
    "\n",
    "If the `p-value` is small and less than our `alpha` threshold, then it's unlikely our data was generated under the scenario of the `null hypothesis`. Thus we would reject the `null hypothesis` in favor of the `alternative hypothesis`.\n",
    "\n",
    "If you are still confused and looking to learn more, you can use one of the resources below:\n",
    "\n",
    "* [11 min video by Khan Academy](https://www.youtube.com/watch?v=-FtlH4svqx4)\n",
    "* [Short article](https://www.dummies.com/education/math/statistics/what-a-p-value-tells-you-about-statistical-data/)\n",
    "\n",
    "\n",
    "To get the `p-value`, we need to calculate something called the `z-score` which will be what you do here in this example."
   ]
  },
  {
   "cell_type": "markdown",
   "metadata": {},
   "source": [
    "3 Building on our example with coin flips, let's suppose that after `trials=100` flips, we get `heads=61` heads. We choose an `alpha` level of `0.05`: is the coin fair or not? Our null hypothesis is: the coin is fair, so `chance=0.5`. We set these variables:"
   ]
  },
  {
   "cell_type": "markdown",
   "metadata": {},
   "source": [
    "**NOTE**: You may need to `pip install scipy` in order for the code below to work."
   ]
  },
  {
   "cell_type": "code",
   "execution_count": null,
   "metadata": {},
   "outputs": [],
   "source": [
    "# Run this cell\n",
    "\n",
    "\n",
    "numTrials = 100  # number of coin flips\n",
    "numHeads = 61  # number of heads\n",
    "chanceOfHeadsIfFair = .5  # null-hypothesis of fair coin"
   ]
  },
  {
   "cell_type": "markdown",
   "metadata": {},
   "source": [
    "Now it's time to calculate the z-score.\n",
    "\n",
    "The equation for the z-score is below:\n",
    "\n",
    "$$ zScore = \\frac{percentHeads - chanceOfHeadsIfFair}{\\frac{standardDeviation}{\\sqrt{numTrials}}} $$\n",
    "\n",
    "Where the quantities are computed in the following way:\n",
    "\n",
    "$percentHeads = \\frac{numHeads}{numTrials}$\n",
    "\n",
    "$chanceOfHeads = 0.5$\n",
    "\n",
    "$standardDeviation = chanceOfHeadsIfFair * (1 - chanceOfHeadsIfFair)$\n",
    "\n",
    "Using the formula and variables defined above, calculate the z-score of the above example.\n"
   ]
  },
  {
   "cell_type": "code",
   "execution_count": 26,
   "metadata": {},
   "outputs": [],
   "source": [
    "#### YOUR CODE HERE\n",
    "\n",
    "\n",
    "\n",
    "\n",
    "\n",
    "\n"
   ]
  },
  {
   "cell_type": "markdown",
   "metadata": {},
   "source": [
    "Now using this z-score, we can calculate how \"extreme\" it is. In other words, how likely were were likely to get this `z-score` if the coin was truly fair.\n",
    "\n",
    "You're going to calculate the `p-value` given this `z-score`.\n",
    "\n",
    "Here's how you're going to do it.\n",
    "\n",
    "There's a function in the `scipy.stats` module called `stats.norm.cdf()` that takes in as input a `z-score` and returns the **probability that your data was NOT as extreme as this z-score**.\n",
    "\n",
    "Now, this isn't quite what you want. But with a little bit of algebra, you can do some basic math on the output of `stats.norm.cdf()` to return the `p-value`.\n",
    "\n",
    "Remember, the `p-value` is the **probablity that your data is MORE extreme than the z-score**.\n",
    "\n",
    "Do some thinking, some basic math, and write some code below that calculates the `p-value` of the `z-score` you calculated above."
   ]
  },
  {
   "cell_type": "code",
   "execution_count": null,
   "metadata": {},
   "outputs": [],
   "source": [
    "# You may need to `pip install scipy` in your Terminal\n",
    "import scipy.stats as stats\n",
    "\n",
    "### YOUR CODE HERE\n",
    "# you will need to use `stats.norm.cdf()` and give this function the z-score that you calculated above.\n"
   ]
  },
  {
   "cell_type": "markdown",
   "metadata": {},
   "source": [
    "***"
   ]
  },
  {
   "cell_type": "markdown",
   "metadata": {},
   "source": [
    "## Advanced Exercise"
   ]
  },
  {
   "cell_type": "markdown",
   "metadata": {},
   "source": [
    "### Chuck-a-luck\n",
    "***\n",
    "\n",
    "The game Chuck-a-luck is played by rolling 3 dice and betting on a number between 1 and 6. You win your bet multiplied by the number of times your chosen number appears on the the three dice. You lose your bet if your number doesn't appear at all. For example\n",
    "\n",
    "* If you bet $\\$1$ on $5$ and you roll ${3,~4,~5}$ then you get to keep your $\\$1$ plus you win another $\\$1$.\n",
    "* If you bet $\\$1$ on $5$ and roll ${4,~5,~5}$ you get to keep your $\\$1$ plus you win $\\$2$.\n",
    "* On the other hand, if you bet $\\$1$ on $5$ and roll ${2,~3,~4}$ then you lose your $\\$1$.\n",
    "\n",
    "A quick look at this game may make it appear reasonably fair. Since you roll 3 dice and there seems to be a probability $\\frac{1}{2}$ that your chosen number appears and so the odds should be in your favor.\n",
    "\n",
    "**Part A**: Let's write a function called `chuck_a_trial` that takes as its sole required parameter the integer `my_number` that you bet on and returns your winnings or losses. To make things simple, we'll assume that we always bet $\\$1$ on every roll."
   ]
  },
  {
   "cell_type": "code",
   "execution_count": null,
   "metadata": {},
   "outputs": [],
   "source": [
    "### YOUR CODE HERE\n",
    "\n",
    "\n",
    "\n",
    "\n"
   ]
  },
  {
   "cell_type": "markdown",
   "metadata": {},
   "source": [
    "**Part B**: Write a function `chuck_a_luck_simulator` that takes the integer `my_number` that you bet on and runs many simulations of `chuck_a_trial` and computes your average winnings over all of the trials. \n",
    "\n",
    "To control the number of trials in your simulation, add an optional parameter `num_trials` initialized to `1000`."
   ]
  },
  {
   "cell_type": "code",
   "execution_count": null,
   "metadata": {},
   "outputs": [],
   "source": [
    "### YOUR CODE HERE\n",
    "\n",
    "\n",
    "\n",
    "\n"
   ]
  },
  {
   "cell_type": "markdown",
   "metadata": {},
   "source": [
    "**Part C**: Based on your simulation above, how fair or unfair is this game? Or said another way, how much do you expect to win/lose if you play this game for a very long time?"
   ]
  },
  {
   "cell_type": "markdown",
   "metadata": {},
   "source": [
    "***"
   ]
  },
  {
   "cell_type": "markdown",
   "metadata": {},
   "source": [
    "## Optional -- Challenge Exercise\n",
    "\n",
    "This is purely optional challenge for those who want to play around. \n",
    "\n",
    "Leave this for if you want to push yourself after all of your other homework is done."
   ]
  },
  {
   "cell_type": "markdown",
   "metadata": {},
   "source": [
    "### Simulating Roulette\n",
    "*** \n",
    "\n",
    "A Las Vegas roulette board contains 38 numbers $\\{0, 00, 1, 2, \\ldots, 36\\}$. Of the non-zero numbers, 18 are red and 18 are black. You can place bets on various number/color combinations and each type of bet pays-out at a different rate.  For example: \n",
    "\n",
    "- If you bet $\\$1$ on red (or black) and win you win $\\$1$. \n",
    "- If you bet any particular number and win you win $\\$35$. \n",
    "- If you bet on the first dozen (or second dozen, or third dozen) nonzero numbers and win you win $\\$2$. \n",
    "\n",
    "![alt text](https://www.lasvegasdirect.com/wp-content/uploads/2016/09/American-Roulette-Table.gif)\n",
    "\n",
    "It seems like there are so many ways to win!  In reality, some very careful probability theory was done by the game designers to ensure that there is not much difference in any particular payout.  We'll explore roulette both by simulation and by hand in this exercise. \n",
    "\n",
    "The following function simulates the spin of a Las Vegas roulette board.  "
   ]
  },
  {
   "cell_type": "code",
   "execution_count": null,
   "metadata": {},
   "outputs": [],
   "source": [
    "def spin_roulette():\n",
    "    numbers = np.array([\"0\", \"00\"] + [str(ii) for ii in range(1,36+1)])\n",
    "    red = [str(ii) for ii in [1,3,5,7,9,12,14,16,18,19,21,23,25,27,30,32,34,36]] \n",
    "    black = [str(ii) for ii in [2,4,6,8,10,11,13,15,17,20,22,24,26,29,29,31,33,35]]\n",
    "    green = [\"0\", \"00\"]\n",
    "    number = np.random.choice(numbers)\n",
    "    color = \"R\" if number in red else \"B\" if number in black else \"G\"\n",
    "    return number+color\n",
    "\n",
    "spin_roulette()"
   ]
  },
  {
   "cell_type": "markdown",
   "metadata": {},
   "source": [
    "**Part A**: Write a function that estimates the expected winnings by betting on red (or black)"
   ]
  },
  {
   "cell_type": "code",
   "execution_count": null,
   "metadata": {},
   "outputs": [],
   "source": [
    "### YOUR CODE HERE\n",
    "\n",
    "\n",
    "\n",
    "\n",
    "\n"
   ]
  },
  {
   "cell_type": "markdown",
   "metadata": {},
   "source": [
    "**Part B**: Write a function that estimates the expected winnings by betting on a particular number. "
   ]
  },
  {
   "cell_type": "code",
   "execution_count": null,
   "metadata": {},
   "outputs": [],
   "source": [
    "### YOUR CODE HERE\n",
    "\n",
    "\n",
    "\n",
    "\n",
    "\n"
   ]
  },
  {
   "cell_type": "markdown",
   "metadata": {},
   "source": [
    "**Part C**: Write a function that estimates the expected winnings by betting on the first dozen nonzero numbers. "
   ]
  },
  {
   "cell_type": "code",
   "execution_count": null,
   "metadata": {},
   "outputs": [],
   "source": [
    "### YOUR CODE HERE\n",
    "\n",
    "\n",
    "\n",
    "\n",
    "\n"
   ]
  },
  {
   "cell_type": "markdown",
   "metadata": {},
   "source": [
    "**Part D**: Do you see a pattern?! Let's see if we can confirm our hypothesis.  First, compute the exact expectation of your winnings by betting on red. "
   ]
  },
  {
   "cell_type": "code",
   "execution_count": null,
   "metadata": {},
   "outputs": [],
   "source": [
    "### YOUR CODE HERE\n",
    "\n",
    "\n",
    "\n",
    "\n",
    "\n"
   ]
  },
  {
   "cell_type": "markdown",
   "metadata": {},
   "source": [
    "**Part E**: Now compute the exact expectation of your winnings by betting on any particular number. Remember that the payout for hitting a number is $35$ to $1$.  "
   ]
  },
  {
   "cell_type": "code",
   "execution_count": null,
   "metadata": {},
   "outputs": [],
   "source": [
    "### YOUR CODE HERE\n",
    "\n",
    "\n",
    "\n",
    "\n",
    "\n"
   ]
  },
  {
   "cell_type": "markdown",
   "metadata": {},
   "source": [
    "**Part F**: Finally, compute the expected winnings by betting on any dozen nonzero numbers.  Remember that the payout for hitting the correct dozen is 2 to 1.  \n",
    "\n"
   ]
  },
  {
   "cell_type": "code",
   "execution_count": null,
   "metadata": {},
   "outputs": [],
   "source": [
    "### YOUR CODE HERE\n",
    "\n",
    "\n",
    "\n",
    "\n",
    "\n"
   ]
  },
  {
   "cell_type": "markdown",
   "metadata": {},
   "source": [
    "**Part G**: OK, so you're hopefully onto the pattern by now.  Based on the computations done above, can you come up with the odds function $f(n)$ that describes the payout odds for landing on 1 out of $n$ squares? \n",
    "\n"
   ]
  },
  {
   "cell_type": "code",
   "execution_count": null,
   "metadata": {},
   "outputs": [],
   "source": [
    "### YOUR CODE HERE\n",
    "\n",
    "\n",
    "\n",
    "\n",
    "\n"
   ]
  }
 ],
 "metadata": {
  "kernelspec": {
   "display_name": "Python 3",
   "language": "python",
   "name": "python3"
  },
  "language_info": {
   "codemirror_mode": {
    "name": "ipython",
    "version": 3
   },
   "file_extension": ".py",
   "mimetype": "text/x-python",
   "name": "python",
   "nbconvert_exporter": "python",
   "pygments_lexer": "ipython3",
   "version": "3.5.2"
  }
 },
 "nbformat": 4,
 "nbformat_minor": 2
}

{
 "cells": [
  {
   "cell_type": "markdown",
   "metadata": {},
   "source": [
    "# Using Python's `csv` Module\n",
    "\n",
    "This Jupyter Notebook introduces basic data handling using only built-in Python tools.\n",
    "\n",
    "Specifically, we'll be using the `csv` module that's built into Python for our data analysis."
   ]
  },
  {
   "cell_type": "markdown",
   "metadata": {},
   "source": [
    "# Resources\n",
    "\n",
    "If you have not used the `csv` module before, I suggest opening up one of the following links as a reference as you go through this assignment:\n",
    "\n",
    "0. [The basics: a short and sweet tutorial on the `csv` module](https://pythonprogramming.net/reading-csv-files-python-3/)\n",
    "1. [More in-depth: How to read and write csv files with Python](https://code.tutsplus.com/tutorials/how-to-read-and-write-csv-files-in-python--cms-29907)\n",
    "3. [Thorough tutorial: Reading and writing csv files with Python](https://realpython.com/python-csv/#reading-csv-files-into-a-dictionary-with-csv)"
   ]
  },
  {
   "cell_type": "markdown",
   "metadata": {},
   "source": [
    "# Your Assignment\n",
    "\n",
    "Using only the built-in `csv` module and what you know about the Python programming language (including other built-in standard libraries), complete the following tasks:\n",
    "\n",
    "1. Load the Titanic dataset\n",
    "2. Pick one set of exercises below (Introductory, Intermediate or Advanced) and analyze the dataset to answer all of the questions:\n",
    "\n",
    "\n",
    "### Introductory\n",
    "\n",
    "* What is the sum total of all fares paid by passengers on the Titanic?\n",
    "* What % of the total fare was paid by each of the passenger classes?\n",
    "* What was the average age of passengers on the Titanic? Who was the oldest passenger? Who was the youngest?\n",
    "* What % of female passengers under the age of 25 survived?\n",
    "    \n",
    "### Intermediate\n",
    "* What % of female passengers in Class 2 survived? \n",
    "* Which Cabin letter (A, B, C, D, E or F) had the highest survival rate?\n",
    "* What % of the Titanic passengers were Class 1? Class 2? Class 3?\n",
    "* Which Boat # had the highest survival rate?\n",
    "    \n",
    "### Advanced\n",
    "* What were the top 3 most common destinations on the Titanic?\n",
    "* What % of rows in this dataset has at least one null or unknown quantity (e.g., it's blank in some column)?\n",
    "* On average, which combination of embarking / destination tended to require the highest fare? (E.g., what was highest average price for each of the possible combinations for where a passenger could embark and their destination?)"
   ]
  },
  {
   "cell_type": "markdown",
   "metadata": {},
   "source": [
    "# Your Code Below"
   ]
  },
  {
   "cell_type": "code",
   "execution_count": 2,
   "metadata": {},
   "outputs": [],
   "source": [
    "import csv\n",
    "\n",
    "### Write your code here that answers each of the exercises above"
   ]
  },
  {
   "cell_type": "markdown",
   "metadata": {},
   "source": [
    "### Introductory\n",
    "\n",
    "* What is the sum total of all fares paid by passengers on the Titanic?\n",
    "* What % of the total fare was paid by each of the passenger classes?\n",
    "* What was the average age of passengers on the Titanic? Who was the oldest passenger? Who was the youngest?\n",
    "* What % of female passengers under the age of 25 survived?\n",
    "    \n"
   ]
  },
  {
   "cell_type": "code",
   "execution_count": 3,
   "metadata": {},
   "outputs": [],
   "source": [
    "import pandas as pd"
   ]
  },
  {
   "cell_type": "code",
   "execution_count": 4,
   "metadata": {},
   "outputs": [],
   "source": [
    "data = pd.read_csv('../datasets/titanic/titanic_dataset.csv')"
   ]
  },
  {
   "cell_type": "code",
   "execution_count": 10,
   "metadata": {},
   "outputs": [
    {
     "name": "stdout",
     "output_type": "stream",
     "text": [
      "43550.4869\n"
     ]
    }
   ],
   "source": [
    "# * What is the sum total of all fares paid by passengers on the Titanic?\n",
    "sum_fare = data['fare'].sum()\n",
    "print(sum_fare)\n"
   ]
  },
  {
   "cell_type": "code",
   "execution_count": 12,
   "metadata": {},
   "outputs": [
    {
     "name": "stdout",
     "output_type": "stream",
     "text": [
      "0.649026137524\n",
      "0.13470888198\n",
      "0.216264980496\n"
     ]
    }
   ],
   "source": [
    "# * What % of the total fare was paid by each of the passenger classes?\n",
    "p1 = data[data['pclass'] == 1]['fare'].sum() / sum_fare\n",
    "p2 = data[data['pclass'] == 2]['fare'].sum() / sum_fare\n",
    "p3 = data[data['pclass'] == 3]['fare'].sum() / sum_fare\n",
    "print(p1)\n",
    "print(p2)\n",
    "print(p3)"
   ]
  },
  {
   "cell_type": "code",
   "execution_count": 17,
   "metadata": {},
   "outputs": [
    {
     "name": "stdout",
     "output_type": "stream",
     "text": [
      "29.8811345124\n",
      "14\n"
     ]
    }
   ],
   "source": [
    "# * What was the average age of passengers on the Titanic? Who was the oldest passenger? Who was the youngest?\n",
    "average_age = data['age'].mean()\n",
    "print(average_age)\n",
    "\n",
    "oldest = data['age'].max()\n",
    "youngest = data['age'].min()\n",
    "\n",
    "print(data['age'].argmax())"
   ]
  },
  {
   "cell_type": "code",
   "execution_count": 20,
   "metadata": {},
   "outputs": [
    {
     "data": {
      "text/plain": [
       "pclass                                          1\n",
       "survived                                        1\n",
       "name         Barkworth, Mr. Algernon Henry Wilson\n",
       "sex                                          male\n",
       "age                                            80\n",
       "sibsp                                           0\n",
       "parch                                           0\n",
       "ticket                                      27042\n",
       "fare                                           30\n",
       "cabin                                         A23\n",
       "embarked                                        S\n",
       "boat                                            B\n",
       "body                                          NaN\n",
       "home.dest                           Hessle, Yorks\n",
       "Name: 14, dtype: object"
      ]
     },
     "execution_count": 20,
     "metadata": {},
     "output_type": "execute_result"
    }
   ],
   "source": [
    "data.loc[14]"
   ]
  },
  {
   "cell_type": "code",
   "execution_count": 21,
   "metadata": {},
   "outputs": [
    {
     "name": "stdout",
     "output_type": "stream",
     "text": [
      "763\n"
     ]
    }
   ],
   "source": [
    "print(data['age'].argmin())"
   ]
  },
  {
   "cell_type": "code",
   "execution_count": 22,
   "metadata": {},
   "outputs": [
    {
     "data": {
      "text/plain": [
       "pclass                                             3\n",
       "survived                                           1\n",
       "name         Dean, Miss. Elizabeth Gladys \"Millvina\"\n",
       "sex                                           female\n",
       "age                                           0.1667\n",
       "sibsp                                              1\n",
       "parch                                              2\n",
       "ticket                                     C.A. 2315\n",
       "fare                                          20.575\n",
       "cabin                                            NaN\n",
       "embarked                                           S\n",
       "boat                                              10\n",
       "body                                             NaN\n",
       "home.dest                 Devon, England Wichita, KS\n",
       "Name: 763, dtype: object"
      ]
     },
     "execution_count": 22,
     "metadata": {},
     "output_type": "execute_result"
    }
   ],
   "source": [
    "data.loc[763]"
   ]
  },
  {
   "cell_type": "code",
   "execution_count": 27,
   "metadata": {},
   "outputs": [],
   "source": [
    "# * What % of female passengers under the age of 25 survived?\n",
    "female_under_25 = data[(data['age'] < 25) & (data['sex'] == 'female')]"
   ]
  },
  {
   "cell_type": "code",
   "execution_count": 30,
   "metadata": {},
   "outputs": [
    {
     "data": {
      "text/plain": [
       "0.72093023255813948"
      ]
     },
     "execution_count": 30,
     "metadata": {},
     "output_type": "execute_result"
    }
   ],
   "source": [
    "female_under_25['survived'].sum() / female_under_25.shape[0]"
   ]
  },
  {
   "cell_type": "markdown",
   "metadata": {},
   "source": [
    "### Intermediate\n",
    "* What % of female passengers in Class 2 survived? \n",
    "* Which Cabin letter (A, B, C, D, E or F) had the highest survival rate?\n",
    "* What % of the Titanic passengers were Class 1? Class 2? Class 3?\n",
    "* Which Boat # had the highest survival rate?\n",
    "    \n"
   ]
  },
  {
   "cell_type": "code",
   "execution_count": 5,
   "metadata": {},
   "outputs": [
    {
     "name": "stdout",
     "output_type": "stream",
     "text": [
      "0.88679245283\n"
     ]
    }
   ],
   "source": [
    "# * What % of female passengers in Class 2 survived? \n",
    "subset = data[(data['sex'] == 'female') & (data['pclass'] == 2)]\n",
    "percent_female_class2 = subset['survived'].sum() / subset.shape[0]\n",
    "print(percent_female_class2)\n",
    "\n"
   ]
  },
  {
   "cell_type": "code",
   "execution_count": 41,
   "metadata": {},
   "outputs": [],
   "source": [
    "# * Which Cabin letter (A, B, C, D, E or F) had the highest survival rate?\n",
    "\n",
    "cabin_a = data[data['cabin'].str.contains('A') == True]\n",
    "cabin_b = data[data['cabin'].str.contains('B') == True]\n",
    "cabin_c = data[data['cabin'].str.contains('C') == True]\n",
    "cabin_d = data[data['cabin'].str.contains('D') == True]\n",
    "cabin_e = data[data['cabin'].str.contains('E') == True]\n",
    "cabin_f = data[data['cabin'].str.contains('F') == True]\n"
   ]
  },
  {
   "cell_type": "code",
   "execution_count": 42,
   "metadata": {},
   "outputs": [
    {
     "name": "stdout",
     "output_type": "stream",
     "text": [
      "0.5\n",
      "0.723076923077\n",
      "0.606382978723\n",
      "0.695652173913\n",
      "0.727272727273\n",
      "0.619047619048\n"
     ]
    }
   ],
   "source": [
    "print(cabin_a['survived'].sum() / cabin_a.shape[0])\n",
    "print(cabin_b['survived'].sum() / cabin_b.shape[0])\n",
    "print(cabin_c['survived'].sum() / cabin_c.shape[0])\n",
    "print(cabin_d['survived'].sum() / cabin_d.shape[0])\n",
    "print(cabin_e['survived'].sum() / cabin_e.shape[0])\n",
    "print(cabin_f['survived'].sum() / cabin_f.shape[0])\n",
    "\n",
    "# Cabin E"
   ]
  },
  {
   "cell_type": "code",
   "execution_count": 45,
   "metadata": {},
   "outputs": [
    {
     "data": {
      "text/plain": [
       "3.0    0.541635\n",
       "1.0    0.246753\n",
       "2.0    0.211612\n",
       "Name: pclass, dtype: float64"
      ]
     },
     "execution_count": 45,
     "metadata": {},
     "output_type": "execute_result"
    }
   ],
   "source": [
    "# * What % of the Titanic passengers were Class 1? Class 2? Class 3?\n",
    "data['pclass'].value_counts(normalize=True)"
   ]
  },
  {
   "cell_type": "code",
   "execution_count": 50,
   "metadata": {},
   "outputs": [],
   "source": [
    "# * Which Boat # had the highest survival rate?\n",
    "boat_ids = data['boat'].dropna().unique()"
   ]
  },
  {
   "cell_type": "code",
   "execution_count": 56,
   "metadata": {},
   "outputs": [
    {
     "name": "stdout",
     "output_type": "stream",
     "text": [
      "Boat ID: 2 - 100.000000\n",
      "Boat ID: 11 - 100.000000\n",
      "Boat ID: 3 - 100.000000\n",
      "Boat ID: 10 - 100.000000\n",
      "Boat ID: D - 95.000000\n",
      "Boat ID: 4 - 100.000000\n",
      "Boat ID: 9 - 100.000000\n",
      "Boat ID: 6 - 100.000000\n",
      "Boat ID: B - 88.888889\n",
      "Boat ID: 8 - 100.000000\n",
      "Boat ID: A - 63.636364\n",
      "Boat ID: 5 - 100.000000\n",
      "Boat ID: 7 - 100.000000\n",
      "Boat ID: C - 97.368421\n",
      "Boat ID: 14 - 96.969697\n",
      "Boat ID: 5 9 - 100.000000\n",
      "Boat ID: 13 - 100.000000\n",
      "Boat ID: 1 - 100.000000\n",
      "Boat ID: 15 - 100.000000\n",
      "Boat ID: 5 7 - 100.000000\n",
      "Boat ID: 8 10 - 100.000000\n",
      "Boat ID: 12 - 94.736842\n",
      "Boat ID: 16 - 100.000000\n",
      "Boat ID: 13 15 B - 100.000000\n",
      "Boat ID: C D - 100.000000\n",
      "Boat ID: 15 16 - 100.000000\n",
      "Boat ID: 13 15 - 100.000000\n"
     ]
    }
   ],
   "source": [
    "for boat in boat_ids:\n",
    "    subset = data[data['boat'] == boat]\n",
    "    survival_rate = subset['survived'].sum() / subset.shape[0]\n",
    "    print('Boat ID: {} - {:2f}'.format(boat, survival_rate * 100))"
   ]
  },
  {
   "cell_type": "markdown",
   "metadata": {},
   "source": [
    "### Advanced\n",
    "* What were the top 3 most common destinations on the Titanic?\n",
    "* What % of rows in this dataset has at least one null or unknown quantity (e.g., it's blank in some column)?\n",
    "* On average, which combination of embarking / destination tended to require the highest fare? (E.g., what was highest average price for each of the possible combinations for where a passenger could embark and their destination?)"
   ]
  },
  {
   "cell_type": "code",
   "execution_count": 58,
   "metadata": {},
   "outputs": [
    {
     "data": {
      "text/plain": [
       "New York, NY                                      64\n",
       "London                                            14\n",
       "Montreal, PQ                                      10\n",
       "Paris, France                                      9\n",
       "Cornwall / Akron, OH                               9\n",
       "Winnipeg, MB                                       8\n",
       "Philadelphia, PA                                   8\n",
       "Wiltshire, England Niagara Falls, NY               8\n",
       "Brooklyn, NY                                       7\n",
       "Sweden Winnipeg, MN                                7\n",
       "Belfast                                            7\n",
       "Bulgaria Chicago, IL                               5\n",
       "Rotherfield, Sussex, England Essex Co, MA          5\n",
       "Ottawa, ON                                         5\n",
       "Sweden Worcester, MA                               5\n",
       "Somerset / Bernardsville, NJ                       5\n",
       "Haverford, PA / Cooperstown, NY                    5\n",
       "Austria                                            4\n",
       "Ireland New York, NY                               4\n",
       "Minneapolis, MN                                    4\n",
       "London, England                                    4\n",
       "Ireland Chicago, IL                                4\n",
       "Chicago, IL                                        4\n",
       "Montreal, PQ / Chesterville, ON                    4\n",
       "Bryn Mawr, PA                                      4\n",
       "Youngstown, OH                                     4\n",
       "Devon, England Wichita, KS                         4\n",
       "Bournmouth, England                                4\n",
       "Ruotsinphytaa, Finland New York, NY                4\n",
       "Syria New York, NY                                 4\n",
       "                                                  ..\n",
       "Green Bay, WI                                      1\n",
       "London New York, NY                                1\n",
       "Westcliff-on-Sea, Essex                            1\n",
       "Tranvik, Finland New York                          1\n",
       "Sweden Akeley, MN                                  1\n",
       "Oskarshamn, Sweden Minneapolis, MN                 1\n",
       "Co Sligo, Ireland Hartford, CT                     1\n",
       "Ireland Philadelphia, PA                           1\n",
       "India / Rapid City, SD                             1\n",
       "New Britain, CT                                    1\n",
       "Goteborg, Sweden / Rockford, IL                    1\n",
       "St Andrews, Guernsey                               1\n",
       "England Salt Lake City, Utah                       1\n",
       "Lyndhurst, England                                 1\n",
       "Antwerp, Belgium / Stanton, OH                     1\n",
       "Weston-Super-Mare / Moose Jaw, SK                  1\n",
       "East Orange, NJ                                    1\n",
       "Bristol, England Cleveland, OH                     1\n",
       "London Skanteales, NY                              1\n",
       "Cologne, Germany                                   1\n",
       "Glen Ridge, NJ                                     1\n",
       "Plymouth, Dorset / Houghton, MI                    1\n",
       "Southampton / New York, NY                         1\n",
       "Bulgaria Coon Rapids, IA                           1\n",
       "Dorchester, MA                                     1\n",
       "Finland / Washington, DC                           1\n",
       "Austria-Hungary / Germantown, Philadelphia, PA     1\n",
       "Ireland Brooklyn, NY                               1\n",
       "Cooperstown, NY                                    1\n",
       "Halesworth, England                                1\n",
       "Name: home.dest, Length: 369, dtype: int64"
      ]
     },
     "execution_count": 58,
     "metadata": {},
     "output_type": "execute_result"
    }
   ],
   "source": [
    "# * What were the top 3 most common destinations on the Titanic?\n",
    "\n",
    "data['home.dest'].value_counts()"
   ]
  },
  {
   "cell_type": "code",
   "execution_count": 60,
   "metadata": {},
   "outputs": [
    {
     "data": {
      "text/plain": [
       "pclass       True\n",
       "survived     True\n",
       "name         True\n",
       "sex          True\n",
       "age          True\n",
       "sibsp        True\n",
       "parch        True\n",
       "ticket       True\n",
       "fare         True\n",
       "cabin        True\n",
       "embarked     True\n",
       "boat         True\n",
       "body         True\n",
       "home.dest    True\n",
       "dtype: bool"
      ]
     },
     "execution_count": 60,
     "metadata": {},
     "output_type": "execute_result"
    }
   ],
   "source": [
    "data.isnull().any()"
   ]
  },
  {
   "cell_type": "code",
   "execution_count": 68,
   "metadata": {},
   "outputs": [],
   "source": [
    "# * What % of rows in this dataset has at least one null or unknown quantity (e.g., it's blank in some column)?\n",
    "def has_null(row):\n",
    "    if row.isnull().any():\n",
    "        return True\n",
    "    return False\n",
    "\n",
    "data['has_null'] = data.apply(has_null, axis=1)\n"
   ]
  },
  {
   "cell_type": "code",
   "execution_count": 69,
   "metadata": {},
   "outputs": [
    {
     "data": {
      "text/plain": [
       "1.0"
      ]
     },
     "execution_count": 69,
     "metadata": {},
     "output_type": "execute_result"
    }
   ],
   "source": [
    "data['has_null'].sum() / data.shape[0]"
   ]
  },
  {
   "cell_type": "code",
   "execution_count": 82,
   "metadata": {},
   "outputs": [],
   "source": [
    "import numpy as np"
   ]
  },
  {
   "cell_type": "code",
   "execution_count": 84,
   "metadata": {},
   "outputs": [],
   "source": [
    "# * On average, which combination of embarking / destination tended to require the highest fare? (E.g., what was highest average price for each of the possible combinations for where a passenger could embark and their destination?)\n",
    "subset = data.dropna(axis=0, subset=['embarked', 'home.dest'])\n",
    "pivoted = subset.pivot_table(index=['embarked', 'home.dest'], values=['fare'], aggfunc=np.mean)\n",
    "\n"
   ]
  },
  {
   "cell_type": "code",
   "execution_count": 88,
   "metadata": {},
   "outputs": [
    {
     "data": {
      "text/plain": [
       "('C', 'Austria-Hungary / Germantown, Philadelphia, PA')"
      ]
     },
     "execution_count": 88,
     "metadata": {},
     "output_type": "execute_result"
    }
   ],
   "source": [
    "pivoted['fare'].argmax()"
   ]
  }
 ],
 "metadata": {
  "kernelspec": {
   "display_name": "Python 3",
   "language": "python",
   "name": "python3"
  },
  "language_info": {
   "codemirror_mode": {
    "name": "ipython",
    "version": 3
   },
   "file_extension": ".py",
   "mimetype": "text/x-python",
   "name": "python",
   "nbconvert_exporter": "python",
   "pygments_lexer": "ipython3",
   "version": "3.5.2"
  }
 },
 "nbformat": 4,
 "nbformat_minor": 2
}

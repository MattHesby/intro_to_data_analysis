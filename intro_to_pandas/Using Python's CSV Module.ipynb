{
 "cells": [
  {
   "cell_type": "markdown",
   "metadata": {},
   "source": [
    "# Using Python's `csv` Module\n",
    "\n",
    "This Jupyter Notebook introduces basic data handling using only built-in Python tools.\n",
    "\n",
    "Specifically, we'll be using the `csv` module that's built into Python for our data analysis."
   ]
  },
  {
   "cell_type": "markdown",
   "metadata": {},
   "source": [
    "# Resources\n",
    "\n",
    "If you have not used the `csv` module before, I suggest opening up one of the following links as a reference as you go through this assignment:\n",
    "\n",
    "0. [The basics: a short and sweet tutorial on the `csv` module](https://pythonprogramming.net/reading-csv-files-python-3/)\n",
    "1. [More in-depth: How to read and write csv files with Python](https://code.tutsplus.com/tutorials/how-to-read-and-write-csv-files-in-python--cms-29907)\n",
    "3. [Thorough tutorial: Reading and writing csv files with Python](https://realpython.com/python-csv/#reading-csv-files-into-a-dictionary-with-csv)"
   ]
  },
  {
   "cell_type": "markdown",
   "metadata": {},
   "source": [
    "# Your Assignment\n",
    "\n",
    "Using only the built-in `csv` module and what you know about the Python programming language (including other built-in standard libraries), complete the following tasks:\n",
    "\n",
    "1. Load the Titanic dataset\n",
    "2. Pick one set of exercises below (Introductory, Intermediate or Advanced) and analyze the dataset to answer all of the questions:\n",
    "\n",
    "\n",
    "### Introductory\n",
    "\n",
    "* What is the sum total of all fares paid by passengers on the Titanic?\n",
    "* What % of the total fare was paid by each of the passenger classes?\n",
    "* What was the average age of passengers on the Titanic? Who was the oldest passenger? Who was the youngest?\n",
    "* What % of female passengers under the age of 25 survived?\n",
    "    \n",
    "### Intermediate\n",
    "* What % of female passengers in Class 2 survived? \n",
    "* Which Cabin letter (A, B, C, D, E or F) had the highest survival rate?\n",
    "* What % of the Titanic passengers were Class 1? Class 2? Class 3?\n",
    "* Which Boat # had the highest survival rate?\n",
    "    \n",
    "### Advanced\n",
    "* What were the top 3 most common destinations on the Titanic?\n",
    "* What % of rows in this dataset has at least one null or unknown quantity (e.g., it's blank in some column)?\n",
    "* On average, which combination of embarking / destination tended to require the highest fare? (E.g., what was highest average price for each of the possible combinations for where a passenger could embark and their destination?)"
   ]
  },
  {
   "cell_type": "markdown",
   "metadata": {},
   "source": [
    "# Your Code Below"
   ]
  },
  {
   "cell_type": "code",
   "execution_count": null,
   "metadata": {},
   "outputs": [],
   "source": [
    "import csv\n",
    "\n",
    "### Write your code here that answers each of the exercises above"
   ]
  }
 ],
 "metadata": {
  "kernelspec": {
   "display_name": "Python 3",
   "language": "python",
   "name": "python3"
  },
  "language_info": {
   "codemirror_mode": {
    "name": "ipython",
    "version": 3
   },
   "file_extension": ".py",
   "mimetype": "text/x-python",
   "name": "python",
   "nbconvert_exporter": "python",
   "pygments_lexer": "ipython3",
   "version": "3.5.2"
  }
 },
 "nbformat": 4,
 "nbformat_minor": 2
}

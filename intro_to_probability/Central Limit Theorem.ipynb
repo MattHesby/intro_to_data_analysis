{
 "cells": [
  {
   "cell_type": "code",
   "execution_count": 2,
   "metadata": {},
   "outputs": [
    {
     "name": "stdout",
     "output_type": "stream",
     "text": [
      "Populating the interactive namespace from numpy and matplotlib\n"
     ]
    }
   ],
   "source": [
    "import numpy\n",
    "%pylab inline"
   ]
  },
  {
   "cell_type": "code",
   "execution_count": 13,
   "metadata": {},
   "outputs": [],
   "source": [
    "die = [1, 2, 3, 4, 5, 6]\n",
    "all_averages = []\n",
    "\n",
    "num_die_rolls = 8\n",
    "\n",
    "for i in range(0, 1000):\n",
    "    total = 0\n",
    "    for x in range(0, num_die_rolls):\n",
    "        total += numpy.random.choice(die)\n",
    "    average = float(total) / num_die_rolls\n",
    "    all_averages.append(average)"
   ]
  },
  {
   "cell_type": "code",
   "execution_count": 14,
   "metadata": {},
   "outputs": [
    {
     "data": {
      "text/plain": [
       "(array([  2.,   2.,   0.,   4.,   0.,   3.,   0.,   7.,  13.,   0.,  22.,\n",
       "          0.,  27.,   0.,  51.,   0.,  56.,  56.,   0.,  61.,   0.,  78.,\n",
       "          0.,  80.,   0.,  70.,  76.,   0.,  76.,   0.,  70.,   0.,  63.,\n",
       "         53.,   0.,  38.,   0.,  21.,   0.,  21.,   0.,  16.,  13.,   0.,\n",
       "          9.,   0.,   6.,   0.,   0.,   6.]),\n",
       " array([ 1.75,  1.82,  1.89,  1.96,  2.03,  2.1 ,  2.17,  2.24,  2.31,\n",
       "         2.38,  2.45,  2.52,  2.59,  2.66,  2.73,  2.8 ,  2.87,  2.94,\n",
       "         3.01,  3.08,  3.15,  3.22,  3.29,  3.36,  3.43,  3.5 ,  3.57,\n",
       "         3.64,  3.71,  3.78,  3.85,  3.92,  3.99,  4.06,  4.13,  4.2 ,\n",
       "         4.27,  4.34,  4.41,  4.48,  4.55,  4.62,  4.69,  4.76,  4.83,\n",
       "         4.9 ,  4.97,  5.04,  5.11,  5.18,  5.25]),\n",
       " <a list of 50 Patch objects>)"
      ]
     },
     "execution_count": 14,
     "metadata": {},
     "output_type": "execute_result"
    },
    {
     "data": {
      "image/png": "[encoded data removed]",
      "text/plain": [
       "<matplotlib.figure.Figure at 0x10fde9940>"
      ]
     },
     "metadata": {},
     "output_type": "display_data"
    }
   ],
   "source": [
    "plt.hist(all_averages, bins=50)"
   ]
  },
  {
   "cell_type": "code",
   "execution_count": null,
   "metadata": {},
   "outputs": [],
   "source": []
  }
 ],
 "metadata": {
  "kernelspec": {
   "display_name": "Python 3",
   "language": "python",
   "name": "python3"
  },
  "language_info": {
   "codemirror_mode": {
    "name": "ipython",
    "version": 3
   },
   "file_extension": ".py",
   "mimetype": "text/x-python",
   "name": "python",
   "nbconvert_exporter": "python",
   "pygments_lexer": "ipython3",
   "version": "3.5.2"
  }
 },
 "nbformat": 4,
 "nbformat_minor": 2
}

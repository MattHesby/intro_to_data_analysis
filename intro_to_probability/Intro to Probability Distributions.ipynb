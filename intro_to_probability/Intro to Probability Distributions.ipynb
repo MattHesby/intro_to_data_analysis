{
 "cells": [
  {
   "cell_type": "markdown",
   "metadata": {},
   "source": [
    "# Intro to Probability Distributions"
   ]
  },
  {
   "cell_type": "markdown",
   "metadata": {},
   "source": [
    "by Carl Shan\n",
    "\n",
    "\n",
    "This Jupyter Notebook introduces you to the following:\n",
    "\n",
    "1. Various common probability distributions\n",
    "2. Properties of probability distributions\n",
    "3. Basic descriptive analysis\n",
    "\n",
    "Complete the exercises throughout this Jupyter Notebook."
   ]
  },
  {
   "cell_type": "markdown",
   "metadata": {},
   "source": [
    "## Common Probability Distributions\n",
    "\n",
    "There are all sorts of probability distributions. Many can be described by a mathematical formula, and differen probability distributions are useful for modeling different phenomena.\n",
    "\n",
    "To see them, we'll need the `scipy` library.\n",
    "\n",
    "`scipy` stands for `Scientific Python` and is a popular library that many researchers and programmers use every day.\n",
    "\n",
    "We will also install `seaborn` for future plotting, as `seaborn` is a library that can add greater functionality to our plots.\n",
    "\n",
    "In Terminal: `pip3 install --user scipy seaborn`\n",
    "\n",
    "Then try the following:"
   ]
  },
  {
   "cell_type": "code",
   "execution_count": 4,
   "metadata": {},
   "outputs": [
    {
     "name": "stdout",
     "output_type": "stream",
     "text": [
      "Populating the interactive namespace from numpy and matplotlib\n"
     ]
    },
    {
     "name": "stderr",
     "output_type": "stream",
     "text": [
      "/Users/cshan/Library/Python/3.5/lib/python/site-packages/IPython/core/magics/pylab.py:160: UserWarning: pylab import has clobbered these variables: ['poisson']\n",
      "`%matplotlib` prevents importing * from pylab and numpy\n",
      "  \"\\n`%matplotlib` prevents importing * from pylab and numpy\"\n"
     ]
    }
   ],
   "source": [
    "# Run this first to get your plots to show up\n",
    "\n",
    "import scipy\n",
    "import seaborn as sns\n",
    "%pylab inline"
   ]
  },
  {
   "attachments": {},
   "cell_type": "markdown",
   "metadata": {},
   "source": [
    "### The `uniform` disribution\n",
    "\n",
    "The `uniform` distribution describes where every outcome is equally likely. \n",
    "\n",
    "Think of a die roll.\n",
    "\n",
    "![Image](https://study.com/cimages/multimages/16/uniform_distribution_dollar_giveaway_v3.png)\n",
    "\n",
    "In the code below we are going to `sample` from the `uniform` distribution. In other words, we're going to be drawing many elements to form a sample out of this probability distribution. Copy the code below:\n"
   ]
  },
  {
   "cell_type": "code",
   "execution_count": 27,
   "metadata": {},
   "outputs": [],
   "source": [
    "from scipy.stats import uniform"
   ]
  },
  {
   "cell_type": "code",
   "execution_count": 24,
   "metadata": {},
   "outputs": [],
   "source": [
    "# Feel free to change these numbers\n",
    "sample_size = 5000\n",
    "min_value = 1 \n",
    "max_value = 6"
   ]
  },
  {
   "cell_type": "code",
   "execution_count": 28,
   "metadata": {},
   "outputs": [],
   "source": [
    "# This will sample `sample_size` number of data points from the `uniform` distribution, starting at `loc` and ending at `scale`\n",
    "\n",
    "# Run it.\n",
    "\n",
    "data = uniform.rvs(size=sample_size, loc = min_value, scale=max_value)"
   ]
  },
  {
   "cell_type": "code",
   "execution_count": 30,
   "metadata": {},
   "outputs": [
    {
     "name": "stderr",
     "output_type": "stream",
     "text": [
      "/Users/cshan/Library/Python/3.5/lib/python/site-packages/scipy/stats/stats.py:1713: FutureWarning: Using a non-tuple sequence for multidimensional indexing is deprecated; use `arr[tuple(seq)]` instead of `arr[seq]`. In the future this will be interpreted as an array index, `arr[np.array(seq)]`, which will result either in an error or a different result.\n",
      "  return np.add.reduce(sorted[indexer] * weights, axis=axis) / sumval\n"
     ]
    },
    {
     "data": {
      "text/plain": [
       "<matplotlib.axes._subplots.AxesSubplot at 0x11e91bd30>"
      ]
     },
     "execution_count": 30,
     "metadata": {},
     "output_type": "execute_result"
    },
    {
     "data": {
      "image/png": "[encoded data removed]",
      "text/plain": [
       "<Figure size 432x288 with 1 Axes>"
      ]
     },
     "metadata": {
      "needs_background": "light"
     },
     "output_type": "display_data"
    }
   ],
   "source": [
    "# This will use the `seaborn` library to plot our data as histograms\n",
    "# It will also plot a \"best fit\" line on top of this data to try and model it.\n",
    "sns.distplot(data, bins = 30)"
   ]
  },
  {
   "cell_type": "markdown",
   "metadata": {},
   "source": [
    "### `uniform` distribution exercise\n",
    "\n",
    "Answer the following question:\n",
    "\n",
    "> The amount of time, in minutes, that a person waits for a bus is uniformly distributed between 0 and 15 minutes (inclusive). What is the probability that a person who just arrived at the bus stop will wait fewer than 12.5 minutes?\n",
    "\n",
    "Note: You can either answer this mathematically (by writing your explanation below), or by writing a program that simulates this phenomena and finding the % of times that a person waited less than 12.5 minutes.\n",
    "\n",
    "You can and should use the `uniform.rvs()` function that was demonstrated in an earlier example."
   ]
  },
  {
   "cell_type": "code",
   "execution_count": null,
   "metadata": {},
   "outputs": [],
   "source": [
    "## Your code or answer here\n",
    "\n",
    "\n",
    "\n",
    "\n",
    "\n"
   ]
  },
  {
   "cell_type": "markdown",
   "metadata": {},
   "source": [
    "### The `poisson` distribution\n",
    "\n",
    "Named after the French mathematician Siméon Denis Poisson, this probability distribution is used to model the probability of a number of given events occuring in some fixed amount of time, if these events are independent of each other in *two different time intervals*.\n",
    "\n",
    "For example, the `poisson` probability distribution can be used to model the following:\n",
    "* number of of different people texting you within 5 minutes\n",
    "* number of patients arriving in an emergency room between 10pm and 11pm\n",
    "* number of hairs found in a McDonald's hamburger\n",
    "* number of typos made on one page\n",
    "* number of genetic mutations on a strand of DNA\n",
    "\n",
    "The very first application of the `poisson` distribution was to model the number of deaths that occured in the Prussian army due to horse kicking ... yup, you read that right.\n",
    "\n",
    "![horse kick](https://i0.wp.com/mindyourdecisions.com/blog/wp-content/uploads/2013/06/horse-kick.jpg?resize=320%2C240)\n",
    "*What the heck is going on here? ...*\n",
    "\n",
    "From [*Principles of Statistics*](https://books.google.com/books?id=dh24EaSrmBkC&pg=PA92&dq=prussian+soldier+horse+deaths+poisson&hl=en&sa=X&ei=dRCxUfzXEYKMygHk3YHoAg#v=onepage&q=prussian%20soldier%20horse%20deaths%20poisson&f=false) by M. G. Bulmer:\n",
    "\n",
    "> The Poisson distribution was first derived in 1837 by S.D Poisson in a book which purported to show how probability theory could be applied to the decisions of juries, but it attracted little attention until the publication in 1898 of a remarkable little book, Das Gesetz der keinem Zahlen, in which the author, von Bortkiewicz, showed how the distribution could be used to explain statistical regularities in the occurrence of rare events. \n",
    "\n",
    "> As examples von Bortkiewicz considered the numbers of suicides of children in different years…and the number of deaths from horse kicks in the Prussian Army in different years. The last example provided the most extensive data and has become a classical example of the Poisson distribution."
   ]
  },
  {
   "cell_type": "markdown",
   "metadata": {},
   "source": [
    "In general you want to use a Poisson distribution to model the number of occurances of some rare event that happen independently from each other.\n",
    "\n",
    "Try running the code below and complete the activity."
   ]
  },
  {
   "cell_type": "code",
   "execution_count": 7,
   "metadata": {},
   "outputs": [],
   "source": [
    "# Run this\n",
    "from scipy.stats import poisson"
   ]
  },
  {
   "cell_type": "markdown",
   "metadata": {},
   "source": [
    "Say you are trying to model the number of car crashes that happen in a city. \n",
    "\n",
    "Now, does the number of car crashes in a day follow a Poisson distribution?\n",
    "\n",
    "Well, first off are car crashes mostly independent of each other? While it's plausible that car crashes are related to each other, let's assume that car crashes are independent for now.\n",
    "\n",
    "Say that the average # of crashes that happen in a day is 5, and we want to count the number of crashes in the month of Feb, which has 28 days. You could model it in the following way:\n",
    "\n",
    "$$ crashes \\sim Poisson(\\mu=5) $$\n",
    "\n",
    "In case you aren't sure, the way you read the above equation is in the following way: *\"Crashes are distributed according to the Poisson distribution with `mu` equal to 5\"*.\n",
    "\n",
    "**NOTE**: In the above case the Greek symbol `mu` (AKA $\\mu$) is the average number of occurances. It's one of the parameters to the *Poisson* distribution, and it specifies exactly which *Poisson* distribution we are using (in this case we are using *Poisson($\\mu$=5)* distribution)."
   ]
  },
  {
   "cell_type": "code",
   "execution_count": 41,
   "metadata": {},
   "outputs": [],
   "source": [
    "car_crashes = poisson.rvs(mu=2, size=28) # this will sample 28 data points from the Poisson(mu=5) distribution"
   ]
  },
  {
   "cell_type": "code",
   "execution_count": 42,
   "metadata": {},
   "outputs": [
    {
     "data": {
      "text/plain": [
       "array([3, 1, 1, 1, 4, 2, 3, 2, 2, 2, 4, 1, 1, 2, 4, 1, 3, 3, 3, 1, 3, 1,\n",
       "       3, 3, 2, 8, 1, 0])"
      ]
     },
     "execution_count": 42,
     "metadata": {},
     "output_type": "execute_result"
    }
   ],
   "source": [
    "# Let's take a look at the distribution\n",
    "car_crashes"
   ]
  },
  {
   "cell_type": "code",
   "execution_count": 45,
   "metadata": {},
   "outputs": [
    {
     "data": {
      "text/plain": [
       "0.018132788707821854"
      ]
     },
     "execution_count": 45,
     "metadata": {},
     "output_type": "execute_result"
    }
   ],
   "source": [
    "poisson.pmf(k=10, mu=5)"
   ]
  },
  {
   "cell_type": "code",
   "execution_count": 43,
   "metadata": {},
   "outputs": [
    {
     "data": {
      "text/plain": [
       "<matplotlib.axes._subplots.AxesSubplot at 0x11f5f6390>"
      ]
     },
     "execution_count": 43,
     "metadata": {},
     "output_type": "execute_result"
    },
    {
     "data": {
      "image/png": "[encoded data removed]",
      "text/plain": [
       "<Figure size 432x288 with 1 Axes>"
      ]
     },
     "metadata": {
      "needs_background": "light"
     },
     "output_type": "display_data"
    }
   ],
   "source": [
    "# Let's plot it\n",
    "\n",
    "sns.distplot(data, bins = 10)"
   ]
  },
  {
   "cell_type": "markdown",
   "metadata": {},
   "source": [
    "There's no exercise for this section. It's simply meant to introduce you to this popular distribution."
   ]
  },
  {
   "attachments": {},
   "cell_type": "markdown",
   "metadata": {},
   "source": [
    "## The `normal` distribution\n",
    "\n",
    "This is probably the most famous probability distribution out there. It's also known as `the Bell Curve`. It looks like the below:\n",
    "\n",
    "![normal distribution](http://my.ilstu.edu/~gjin/hsc204-hed/Module-5-Summary-Measure-2/Figure-3-9.png)\n",
    "\n",
    "The above distribution is centered at the value $\\mu$ (also known as the `mean` or `average`). The Greek letter sigma $\\sigma$ represents the `Standard Deviation` of the distribution.\n",
    "\n",
    "We talked about the `Standard Deviation` in class, and you'll see it again and again throughout the rest of the course.\n",
    "\n",
    "For the `normal` distribution, 68% of the area under the curve lies within 1$\\sigma$, 95% of the area lies within 2$\\sigma$ and 99.7% of the data is within 3$\\sigma$. "
   ]
  },
  {
   "cell_type": "code",
   "execution_count": 46,
   "metadata": {},
   "outputs": [],
   "source": [
    "# run this\n",
    "from scipy.stats import norm"
   ]
  },
  {
   "cell_type": "code",
   "execution_count": 47,
   "metadata": {},
   "outputs": [],
   "source": [
    "data = norm.rvs(loc=10, size=1000)\n",
    "\n",
    "# In case you're wondering what `loc` means, it is a parameter that allows you to toggle the center of the distribution.\n",
    "# Try changing the loc and running the plot below to see what happens."
   ]
  },
  {
   "cell_type": "code",
   "execution_count": 48,
   "metadata": {},
   "outputs": [
    {
     "name": "stderr",
     "output_type": "stream",
     "text": [
      "/Users/cshan/Library/Python/3.5/lib/python/site-packages/scipy/stats/stats.py:1713: FutureWarning: Using a non-tuple sequence for multidimensional indexing is deprecated; use `arr[tuple(seq)]` instead of `arr[seq]`. In the future this will be interpreted as an array index, `arr[np.array(seq)]`, which will result either in an error or a different result.\n",
      "  return np.add.reduce(sorted[indexer] * weights, axis=axis) / sumval\n"
     ]
    },
    {
     "data": {
      "text/plain": [
       "<matplotlib.axes._subplots.AxesSubplot at 0x11f6a4978>"
      ]
     },
     "execution_count": 48,
     "metadata": {},
     "output_type": "execute_result"
    },
    {
     "data": {
      "image/png": "[encoded data removed]",
      "text/plain": [
       "<Figure size 432x288 with 1 Axes>"
      ]
     },
     "metadata": {
      "needs_background": "light"
     },
     "output_type": "display_data"
    }
   ],
   "source": [
    "sns.distplot(data)"
   ]
  },
  {
   "cell_type": "markdown",
   "metadata": {},
   "source": [
    "### `normal` distribution exercise\n",
    "\n",
    "One famous property of the `normal` distribution is the 65-95-99.7 rule. Specifically, it goes something like:\n",
    "\n",
    "    * 65% of the data drawn from a normal distribution will fall within 1 standard deviation\n",
    "    * 95% will fall within 2 standard deviations\n",
    "    * 99.7% will fall within 3 standard deviations\n",
    "    \n",
    "Your exercise is to write some code that verifies this.\n",
    "\n",
    "Write some code that looks at what percentage of the numbers in `data` are within 1 standard deviation.\n",
    "\n",
    "What about 2 standard deviations?\n",
    "\n",
    "3 standard deviations?\n",
    "\n",
    "\n",
    "I'll give a little sample code to get you started."
   ]
  },
  {
   "cell_type": "code",
   "execution_count": 49,
   "metadata": {},
   "outputs": [],
   "source": [
    "center = 0\n",
    "one_standard_deviation = 1\n",
    "\n",
    "data = norm.rvs(loc=center, scale=one_standard_deviation, size=10000)\n",
    "\n",
    "\n",
    "#### YOUR CODE HERE\n",
    "# Can you verify the 65-95-99.7 rule?\n",
    "\n",
    "\n",
    "\n",
    "\n",
    "\n",
    "\n",
    "\n",
    "\n",
    "\n"
   ]
  },
  {
   "cell_type": "markdown",
   "metadata": {},
   "source": [
    "### Standard Deviation and Centrality\n",
    "\n",
    "There are many ways of describing a probability distribution. However two of the most common ways are to talk about its:\n",
    "\n",
    "1. Center\n",
    "2. Spread\n",
    "\n",
    "\n",
    "### 1. Center\n",
    "\n",
    "The \"center\" of a distribution is where the \"balance\" of the distribution is. An intuitive way to think about it: imagine if you had a lump of Play-Doh that was shaped like the probability distribution. Where would you have to put your finger on the base of the Play-Doh in order for it to perfectly balance?\n",
    "\n",
    "That's the \"center of mass\" of the probability distribution.\n",
    "\n",
    "There are many ways of describing the \"center\" of data in more mathematical ways, however. Here are the three you want to know:\n",
    "\n",
    "#### The `mean`\n",
    "* The `mean`: This is also known as the `average`. It's mathematically computed in the following way:\n",
    "    \n",
    "$$ \\frac{\\Sigma_{i=1}^{N}d_i}{numData} $$ for each datapoint $d_i$ in your dataset.\n",
    "\n",
    "If you are new to reading mathematical notation in the above, $\\Sigma$ is the Greek letter capital `sigma` and it means \"summation\". So the numerator $\\Sigma_{i=1}^{N}d_i$ is read as: \"the sum of all $d_i$ starting at $d_1$ and ending at $d_N$\"\n",
    "\n",
    "The numerator is a mathematicians way of writing the following `for-loop`:\n",
    "\n",
    "\n",
    "```python\n",
    "total = 0\n",
    "for i in range(0, N):\n",
    "    d_i = data[i] # the i-th element in your list `data`\n",
    "    total += d_i\n",
    "```\n",
    "\n",
    "#### The `median`\n",
    "* The `median`: This is different from the mean. The `median` is the number at the 50th percentile of your data. It's the number that represents the point where, 50% of the data is above that point and 50% is below. It's the \"halfway point`. \n",
    "\n",
    "For example, here is a list of salaries for employees at a small company:\n",
    "\n",
    "```python\n",
    "salaries = [40000, 29000, 35500]\n",
    "```\n",
    "\n",
    "The median of these 3 numbers is \\$35,500.\n",
    "\n",
    "If your list is even, for example:\n",
    "```python\n",
    "salaries = [40000, 29000, 35500, 31100]\n",
    "```\n",
    "\n",
    "Then the way you calculate the median is to take the middle two numbers, and average them. In this case:\n",
    "\n",
    "```python\n",
    "median = (29000 + 31100) / 2.0\n",
    "```\n",
    "\n",
    "#### The `mode`\n",
    "\n",
    "The `mode` is simply the most common value in a set of data.\n",
    "\n",
    "```python\n",
    "data = [1, 1, 1, 2, 5, 5, 100]\n",
    "```\n",
    "\n",
    "The `mode` of the data above is `1` since `1` appears most often."
   ]
  },
  {
   "cell_type": "markdown",
   "metadata": {},
   "source": [
    "### Why do we have 3 different measurements for the center of a distribution?\n",
    "\n",
    "Depending on the shape of the probability distribution, the `mean`, `median` and `mode` could all be different. Take a look at the examples below:\n",
    "\n",
    "\n",
    "![distributions](https://i.stack.imgur.com/TOsq9.png)\n",
    "\n",
    "Knowing the `mean`, `median` and `mode` can tell you a lot about the shape of the distribution.\n",
    "\n",
    "For example, only in the middle symmetrical probability distribution (which is the normal distribution) is the `mean`, `median` and `mode` all the same."
   ]
  },
  {
   "cell_type": "markdown",
   "metadata": {},
   "source": [
    "### Center of a Distribution: Exercises\n",
    "\n",
    "You've learned 3 different `centers` of a distribution. Here's your assignment:\n",
    "\n",
    "1. Write a function called `mean` that takes a list of data and computes the mean of that data.\n",
    "2. Do the same for `median` and `mode`. (Hint: for `median` you may wish to use the built-in `sorted` function).\n",
    "    * Note: Don't use outside libraries (e.g., don't use `numpy`'s built in `median` function) to do this. Write your own functions from scratch."
   ]
  },
  {
   "cell_type": "code",
   "execution_count": 60,
   "metadata": {},
   "outputs": [],
   "source": [
    "# Your code here\n",
    "test_data = [1, 2, 2, 5, 5, 100, 200, 500]\n",
    "\n",
    "def mean(data):\n",
    "    pass\n",
    "\n",
    "def median(data):\n",
    "    pass\n",
    "\n",
    "def mode(data):\n",
    "    pass\n",
    "\n",
    "# If you write your functions correctly, you should get the following values on the test dataset:\n",
    "# mean = 101.875\n",
    "# median = 5\n",
    "# mode = 2\n",
    "\n",
    "\n",
    "\n",
    "\n"
   ]
  },
  {
   "cell_type": "markdown",
   "metadata": {},
   "source": [
    "### 2. Spread\n",
    "\n",
    "In addition to understanding the centrality of some data, it's also important to find the spread of the data.\n",
    "\n",
    "One measurement of spread is called the `Standard Deviation`. It is a measurement of how much the data deviates from the \"typical\" data point. We covered this in class.\n",
    "\n",
    "The mathematical equation for it is the following:\n",
    "\n",
    "![image](https://i.imgur.com/1iSGKGq.jpg)\n",
    "\n",
    "### 2. Spread: Exercise\n",
    "\n",
    "1. Your exercise is to write a function called `standard_deviation` that takes a list of data and calculates the standard deviation."
   ]
  },
  {
   "cell_type": "code",
   "execution_count": null,
   "metadata": {},
   "outputs": [],
   "source": [
    "test_data = [1, 2, 2, 5, 5, 100, 200, 500]\n",
    "\n",
    "# YOUR CODE HERE\n",
    "\n",
    "def standard_deviation(data):\n",
    "    pass\n",
    "\n",
    "# if you write your code correctly, then the standard deviation of the test_data should be:\n",
    "# 164.70840711694106"
   ]
  },
  {
   "cell_type": "markdown",
   "metadata": {},
   "source": [
    "### Descriptive Data Analysis\n",
    "\n",
    "For your final exercise, your assignment is to download the DataAnalytics_IntroSurvey data from Canvas (go to `Files` > `datasets`) and try to answer the following questions:\n",
    "\n",
    "**NOTE**: You can and should use `pandas` to do these exercises.\n",
    "\n",
    "1. What's the mean, median, mode and standard deviation of the various numeric columns in the data set? What does that tell you about the shape of the distribution? What's the standard deviation of the dataset?\n",
    "    * You can plot the datapoints as well if that helps you figure out the shape.\n",
    "\n",
    "2. If you take a look at the colum `\"What, if anything, tends to reduce your ability to focus during class?\"`, are there patterns you notice in the data?\n",
    "    * You can write code that counts the occurances of certain words.\n",
    "\n",
    "3. What do you notice about the responses in the column `\"Complete this sentence: 'Something you should know about me and my learning style is ...'\"`\n",
    "\n",
    "4. Looking at the responses to the learning methods columns (e.g., the columns starting with `Based on your past experiences, which learning methods have been EFFECTIVE for you in the past?`), what do you suggest I should do in this class as a teacher?"
   ]
  },
  {
   "cell_type": "code",
   "execution_count": null,
   "metadata": {},
   "outputs": [],
   "source": [
    "# YOUR CODE HERE\n",
    "# I suggest you use pandas to load the .csv file in.\n",
    "\n",
    "\n",
    "\n",
    "\n",
    "\n",
    "\n",
    "\n"
   ]
  }
 ],
 "metadata": {
  "kernelspec": {
   "display_name": "Python 3",
   "language": "python",
   "name": "python3"
  },
  "language_info": {
   "codemirror_mode": {
    "name": "ipython",
    "version": 3
   },
   "file_extension": ".py",
   "mimetype": "text/x-python",
   "name": "python",
   "nbconvert_exporter": "python",
   "pygments_lexer": "ipython3",
   "version": "3.5.2"
  },
  "toc": {
   "base_numbering": 1,
   "nav_menu": {},
   "number_sections": false,
   "sideBar": false,
   "skip_h1_title": false,
   "title_cell": "Table of Contents",
   "title_sidebar": "Contents",
   "toc_cell": false,
   "toc_position": {},
   "toc_section_display": false,
   "toc_window_display": false
  }
 },
 "nbformat": 4,
 "nbformat_minor": 2
}

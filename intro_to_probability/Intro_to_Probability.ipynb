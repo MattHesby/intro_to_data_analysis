{
 "cells": [
  {
   "cell_type": "markdown",
   "metadata": {},
   "source": [
    "# Probability Intuition and Random Simulation \n",
    "***\n",
    "\n",
    "Credit for this notebook goes to [Chris Ketelson](https://www.cs.colorado.edu/~ketelsen/index.html). Modified by Carl Shan.\n",
    "\n",
    "\n",
    "# Introduction\n",
    "\n",
    "In this notebook you'll see how we can use the Python `numpy` library to run simple probability simulations to estimate probabilities and to gain intuition about random processes and to check your pencil and paper work. \n",
    "\n",
    "We'll need Numpy and Matplotlib for this notebook, so let's load and setup those libraries. "
   ]
  },
  {
   "cell_type": "code",
   "execution_count": null,
   "metadata": {},
   "outputs": [],
   "source": [
    "# Run this cell\n",
    "import numpy as np \n",
    "import matplotlib.pylab as plt\n",
    "%matplotlib inline "
   ]
  },
  {
   "cell_type": "markdown",
   "metadata": {},
   "source": [
    "Note: if you don't have `matplotlib` installed, you will need to go to Terminal and `pip3 install --user matplotlib`, then reconnect your Kernel (click on Kernel -> Reconnect)."
   ]
  },
  {
   "cell_type": "markdown",
   "metadata": {},
   "source": [
    "### Example - Estimating the Probability that a Fair Coin Comes Up Heads\n",
    "*** \n",
    "\n",
    "In this example we'll see how we can use the Numpy function [random.choice](https://docs.scipy.org/doc/numpy/reference/generated/numpy.random.choice.html) to make random draws from a sample space and estimate the probability of certain random events. As a simple example, consider a fair coin.  We can represent the sample space for this coin with a Numpy array with two entries: \"H\" and \"T\""
   ]
  },
  {
   "cell_type": "code",
   "execution_count": null,
   "metadata": {},
   "outputs": [],
   "source": [
    "coin = [\"H\", \"T\"]\n",
    "print(coin)"
   ]
  },
  {
   "cell_type": "markdown",
   "metadata": {},
   "source": [
    "We can simulate flipping the coin using `np.random.choice`, which returns a randomly selected entry from a array. If no optional parameters are passed in, `np.random.choice` assigns an **equal probability** to each entry of the array. \n",
    "\n",
    "\n",
    "`np.random.choice` works by taking a list of values, and then returnign one those of values at random."
   ]
  },
  {
   "cell_type": "code",
   "execution_count": null,
   "metadata": {},
   "outputs": [],
   "source": [
    "# Run this cell a number of times to see the different results.\n",
    "\n",
    "flip = np.random.choice(coin)\n",
    "print(flip)"
   ]
  },
  {
   "cell_type": "code",
   "execution_count": null,
   "metadata": {},
   "outputs": [],
   "source": [
    "num_flips = 10\n",
    "\n",
    "for i in range(num_flips):\n",
    "    print(np.random.choice(coin))"
   ]
  },
  {
   "cell_type": "markdown",
   "metadata": {},
   "source": [
    "We can also simulate many flips of the coin and store the results in an array by passing the size parameter to np.random.choice. "
   ]
  },
  {
   "cell_type": "code",
   "execution_count": null,
   "metadata": {},
   "outputs": [],
   "source": [
    "flips = np.random.choice(coin, size=10)\n",
    "print(flips)"
   ]
  },
  {
   "cell_type": "markdown",
   "metadata": {},
   "source": [
    "### Simulation: How do we know if our coin is fair?"
   ]
  },
  {
   "cell_type": "markdown",
   "metadata": {},
   "source": [
    "Now suppose we want to run a simple simulation to estimate the probability  that the coin comes up Heads (which we expect to be $0.5$ because the coin is fair).  \n",
    "\n",
    "But how do we know the coin is fair? \n",
    "\n",
    "Now we could flip this coin a bunch of times by hand, but that'd be tedious.\n",
    "\n",
    "Instead, let's flip this coin programmatically a bunch of times and see how often it comes up heads.\n",
    "\n",
    "If our coin is fair, it should come up about $50\\%$ of the time.\n",
    "\n",
    "So one way to do this by programming is to do a large number of coin flips and then divide the number of flips that come up Heads by the total number of flips. The following code flips the coin 50 times and computes the desired ratio: "
   ]
  },
  {
   "cell_type": "code",
   "execution_count": null,
   "metadata": {},
   "outputs": [],
   "source": [
    "np.random.seed(12345) #ignore this.\n",
    "\n",
    "\n",
    "flips = np.random.choice(coin, size=50)\n",
    "approx_prob_heads = np.sum(flips == \"H\") / len(flips)\n",
    "print(\"After flipping the coin 50 times, the probability of heads is approximately {:.3f}\".format(approx_prob_heads))"
   ]
  },
  {
   "cell_type": "markdown",
   "metadata": {},
   "source": [
    "OK, so the simulation estimated that the probability of the coin coming up heads is $0.36$, which is pretty far off from the $0.5$ that we expected.  This is likely because we didn't do very many coin flips.  Let's see what happens if we rerun the simulation with $500$ coin flips. "
   ]
  },
  {
   "cell_type": "code",
   "execution_count": null,
   "metadata": {},
   "outputs": [],
   "source": [
    "flips = np.random.choice(coin, size=500)\n",
    "approx_prob_heads = np.sum(flips == \"H\") / len(flips)\n",
    "print(\"After flipping the coin 500 times, the probability of heads is approximately {:.3f}\".format(approx_prob_heads))"
   ]
  },
  {
   "cell_type": "markdown",
   "metadata": {},
   "source": [
    "With $500$ coin flips our estimate came out to be $0.512$, which seems much better.  It's an interesting exercise to make a plot of the running estimate of the probability as the number of coin flips increases.  We'll use the same random sequence of coin flips from the previous simulation.  \n"
   ]
  },
  {
   "cell_type": "code",
   "execution_count": null,
   "metadata": {},
   "outputs": [],
   "source": [
    "p = np.zeros(len(flips)) # this just makes an array of 0's that's the length of flips. It will store our data.\n",
    "\n",
    "\n",
    "# Now let's populate the array with the actual probabilities.\n",
    "# The below loop will calculate the percentage of \"H\" for 1 flip, 2 flips ... 500 flips.\n",
    "# We will then see how this percentage changes.\n",
    "# We expect it to start off very shaky (e.g., what if you get 5 heads in a row?), but stablize over time (e.g., you \n",
    "# probably won't get 100 heads in a row).\n",
    "\n",
    "for ii in range(len(p)):\n",
    "    p[ii] = np.sum(flips[:ii+1] == \"H\") / len(flips[:ii+1])\n",
    "\n",
    "# Let's plot the probabilities and see how they change as we do more and more flips.\n",
    "fig, ax = plt.subplots(figsize=(12,6))\n",
    "ax.plot(p, color=\"steelblue\")\n",
    "ax.set_title(\"Running Estimate of Probability of Heads\", fontsize=20)\n",
    "ax.set_xlabel(\"Number of Flips\", fontsize=16)\n",
    "ax.set_ylabel(\"Estimate of Probability\", fontsize=16)\n",
    "\n",
    "ax.grid(True, alpha=0.25)"
   ]
  },
  {
   "cell_type": "markdown",
   "metadata": {},
   "source": [
    "Notice that for very few flips the estimate of the probability is understandably poor.  But as the number of flips increases the estimate settles down to very close to the expected $0.5$. Try cranking up the number of flips in the simulation and see the estimated probability get closer to $0.5$. "
   ]
  },
  {
   "cell_type": "markdown",
   "metadata": {},
   "source": [
    "# Exercises\n",
    "\n",
    "Pick one set of exercises: Standard or Advanced.\n",
    "\n",
    "Try your best to finish them.\n",
    "\n",
    "It's okay to turn in partially incomplete work."
   ]
  },
  {
   "cell_type": "markdown",
   "metadata": {},
   "source": [
    "# Standard Exercises"
   ]
  },
  {
   "cell_type": "markdown",
   "metadata": {},
   "source": [
    "### Exercise 1 - The Biased Coin\n",
    "***\n",
    "\n",
    "Now let's make it more interesting by considering a biased coin where the probability of the coin landing heads is $0.75$.  We can alter the probability with which `np.random.choice` selects a particular entry of the sample space array by passing in an optional array of probabilities, e.g. `p = [0.75, 0.25]`.  Rerun the simulation from above with the biased coin by passing in such an array of probabilities into `np.random.choice`. \n",
    "\n",
    "\n",
    "Does your running estimate of the probability of Heads seem to settle down to $0.75$ as expected?  \n",
    "\n",
    "If not, try increasing the number of coin flips until it does. "
   ]
  },
  {
   "cell_type": "code",
   "execution_count": null,
   "metadata": {},
   "outputs": [],
   "source": [
    "### YOUR CODE HERE\n",
    "\n",
    "\n"
   ]
  },
  {
   "cell_type": "markdown",
   "metadata": {},
   "source": [
    "### Exercise 2 - Double Tails\n",
    "***\n",
    "\n",
    "The probability of flipping three fair coins and getting three Tails in a row is $\\frac{1}{8}$.  \n",
    "\n",
    "But what if we did our math wrong?\n",
    "\n",
    "Let's write a program to confirm that our math is right.\n",
    "\n",
    "Write a simple simulation to estimate the probability of getting three Tails in a row. \n",
    "\n",
    "Does your estimate from your simulation agree with the pencil-and-paper results? "
   ]
  },
  {
   "cell_type": "code",
   "execution_count": null,
   "metadata": {},
   "outputs": [],
   "source": [
    "### YOUR CODE HERE\n",
    "\n",
    "\n"
   ]
  },
  {
   "cell_type": "markdown",
   "metadata": {},
   "source": [
    "### Exercise 3 - How Many Flips Until  we Get a Double Heads\n",
    "***\n",
    "\n",
    "Later we'll see that we can use probabilities to compute average quantities of interest.  For instance, we could compute the average number of coin flips we have to do until we flip two Heads in a row.  \n",
    "\n",
    "Can you write a simulation to estimate this? \n",
    "\n",
    "Can you extend this to $m$ Heads in a row, where $m$ is some variable?"
   ]
  },
  {
   "cell_type": "code",
   "execution_count": null,
   "metadata": {},
   "outputs": [],
   "source": [
    "### YOUR CODE HERE\n",
    "\n",
    "\n",
    "\n",
    "\n",
    "\n",
    "\n",
    "\n",
    "\n"
   ]
  },
  {
   "cell_type": "markdown",
   "metadata": {},
   "source": [
    "# Advanced Exercises"
   ]
  },
  {
   "cell_type": "markdown",
   "metadata": {},
   "source": [
    "### Advanced Exercise 1 - The Birthday Game \n",
    "***\n",
    "\n",
    "First, visit and go through this amazing explanation of [The Birthday Paradox](https://pudding.cool/2018/04/birthday-paradox/).\n",
    "\n",
    "Now we're going to write some code to simulate this.\n",
    "\n",
    "The so-called Birthday Paradox tells us that if there are more than $70$ people in the room, there is a $99.9\\%$ chance that at least two people have the same birthday.  It turns out that _paradox_ is a misnomer, because the facts of the problem are very clear after a bit of probability analysis.  \n",
    "\n",
    "Some of the code is already provided to you. But you need to make sure they all work.\n",
    "\n",
    "- The function `random_bday()` returns a string representing a valid birthday in a non-leap year. \n",
    "\n",
    "- The function `birthday_game(...)` assigns $n$ birthdays randomly and then checks if there is a birthday match.  \n",
    "\n",
    "- The function `birthday_sim(...)` runs many trials of the birthday game and returns the fraction of trials in which there was a birthday match. \n",
    "\n",
    "Try running `birthday_sim(...)` for various number of people and number of trials and look at the results!"
   ]
  },
  {
   "cell_type": "code",
   "execution_count": null,
   "metadata": {},
   "outputs": [],
   "source": [
    "# You don't need to modify this function. It's provided for you and already works.\n",
    "\n",
    "def random_bday():\n",
    "    \"\"\"\n",
    "    This function returns a string representing a valid birthday in a non-leap year.\n",
    "    \n",
    "    Example:\n",
    "    \n",
    "    >>> random_bday()\n",
    "    'Aug 20'\n",
    "    \"\"\"\n",
    "    \n",
    "    # Dictionary telling how many days are in each month  \n",
    "    days_in_month = {\"Jan\" : 31, \"Feb\" : 28, \"Mar\" : 31, \"Apr\" : 30, \"May\" : 31, \"Jun\" : 30, \"Jul\" : 31, \"Aug\" : 31, \n",
    "                     \"Sep\" : 30, \"Oct\" : 31, \"Nov\" : 30, \"Dec\" : 31}\n",
    "    # Array of months \n",
    "    months = np.array(list(days_in_month.keys()))\n",
    "    \n",
    "    # Probability of randomly selecting each month \n",
    "    month_probs = np.array(list(days_in_month.values()))/365\n",
    "    \n",
    "    # Draw random month \n",
    "    m = np.random.choice(months, p=month_probs)\n",
    "    \n",
    "    # Draw random day of month \n",
    "    d = np.random.choice(range(1,days_in_month[m]+1))\n",
    "    \n",
    "    return m + \" \" + str(d)\n",
    "    "
   ]
  },
  {
   "cell_type": "code",
   "execution_count": null,
   "metadata": {},
   "outputs": [],
   "source": [
    "# Try running this cell a number of times and see how it works.\n",
    "random_bday()"
   ]
  },
  {
   "cell_type": "code",
   "execution_count": null,
   "metadata": {},
   "outputs": [],
   "source": [
    "# You need to complete this function.\n",
    "# The details of what this function does is below.\n",
    "\n",
    "def birthday_game(num_people):\n",
    "    \"\"\"\n",
    "    This function should do the following:\n",
    "    1. Take a look at the num_people parameter\n",
    "    2. Generate a list that contains the number of random birthdays (using random_bday()) as num_people\n",
    "    3. Return True if, inside of this list, there are two people with the same birthday\n",
    "    4. Return False otherwise.\n",
    "    \"\"\"\n",
    "    \n",
    "    ## YOUR CODE HERE\n",
    "    \n",
    "    pass\n"
   ]
  },
  {
   "cell_type": "code",
   "execution_count": null,
   "metadata": {},
   "outputs": [],
   "source": [
    "# You need to complete this function\n",
    "\n",
    "def birthday_sim(num_people, num_trials=1000):\n",
    "    \"\"\"\n",
    "    This function will run the birthday game for num_trials times. If no num_trials parameter is supplied, it will default\n",
    "    to 1000 times.\n",
    "    \n",
    "    This function should print the percentage of people that had matching birthdays.\n",
    "    \n",
    "    I've given an example of what the function should print below.\n",
    "    \n",
    "    Example:\n",
    "    \n",
    "    >>> birthday_sim(20)\n",
    "    \"The approximate probability of a birthday match in a room of 20 people, after 1000 trials, is 47.8%\"\n",
    "    \n",
    "    \"\"\"\n",
    "    \n",
    "    ## YOUR CODE HERE\n",
    "    pass"
   ]
  },
  {
   "cell_type": "code",
   "execution_count": null,
   "metadata": {},
   "outputs": [],
   "source": [
    "# If your above code is correct, then running this cell should print roughly 50%.\n",
    "birthday_sim(23)"
   ]
  },
  {
   "cell_type": "code",
   "execution_count": null,
   "metadata": {},
   "outputs": [],
   "source": [
    "### YOUR CODE HERE\n",
    "\n",
    "\n"
   ]
  },
  {
   "cell_type": "markdown",
   "metadata": {},
   "source": [
    "### Advanced Exercise 2 - The Expected Triangle\n",
    "*** \n",
    "\n",
    "Suppose we choose arbitrarily a point from the square with corners at $(0,0)$, $(1,0)$, $(1,1)$, and $(0,1)$. Let the random variable $A$ be the area of the triangle with its corners at $(0,0)$, $(1,0)$, and the chosen point. \n",
    "\n",
    "![alt text](https://www.cs.colorado.edu/~ketelsen/files/courses/csci3022/figs/triangle.png)"
   ]
  },
  {
   "cell_type": "markdown",
   "metadata": {},
   "source": [
    "**Part A**: Write a brief simulation to compute the expected area of A. E.g., on average, what is the Area of A if the third point is chosen at random?"
   ]
  },
  {
   "cell_type": "code",
   "execution_count": null,
   "metadata": {},
   "outputs": [],
   "source": []
  },
  {
   "cell_type": "markdown",
   "metadata": {},
   "source": [
    "**Part B**: Try to mathematically compute by hand the expected area of the triangle. You can type up your explanation of the math here. You can use tools like WolframAlpha. It will be helpful to have a knowledge of calculus (specifically, integrals)."
   ]
  },
  {
   "cell_type": "code",
   "execution_count": null,
   "metadata": {},
   "outputs": [],
   "source": []
  },
  {
   "cell_type": "markdown",
   "metadata": {},
   "source": [
    "### Advanced Exercise 3 - Poker Hands\n",
    "***\n",
    "\n",
    "Consider drawing a hand of five-card poker.  Write a simulation to estimate the probability of being dealt common hands like two pair, a straight, a flush, or a full house.  You can check your estimate for the probability of particular hands [here](http://www.math.hawaii.edu/~ramsey/Probability/PokerHands.html). Note that there are around 2.5 million distinct hands in 5-card poker, so to get accurate probability estimates you'll probably have to simulate **many** hands.   \n",
    "\n",
    "Notice that drawing cards from a deck is slightly different than flipping a coin and rolling a die, because once we've drawn a card, that card is no longer in the deck for the remaining draws.  You can implement this behavior with `np.random.choice` using the parameter `replace=False`. "
   ]
  },
  {
   "cell_type": "code",
   "execution_count": null,
   "metadata": {},
   "outputs": [],
   "source": [
    "### YOUR CODE HERE\n",
    "\n",
    "\n"
   ]
  }
 ],
 "metadata": {
  "kernelspec": {
   "display_name": "Python 3",
   "language": "python",
   "name": "python3"
  },
  "language_info": {
   "codemirror_mode": {
    "name": "ipython",
    "version": 3
   },
   "file_extension": ".py",
   "mimetype": "text/x-python",
   "name": "python",
   "nbconvert_exporter": "python",
   "pygments_lexer": "ipython3",
   "version": "3.5.2"
  },
  "toc": {
   "base_numbering": 1,
   "nav_menu": {},
   "number_sections": false,
   "sideBar": false,
   "skip_h1_title": false,
   "title_cell": "Table of Contents",
   "title_sidebar": "Contents",
   "toc_cell": false,
   "toc_position": {},
   "toc_section_display": false,
   "toc_window_display": false
  }
 },
 "nbformat": 4,
 "nbformat_minor": 2
}
